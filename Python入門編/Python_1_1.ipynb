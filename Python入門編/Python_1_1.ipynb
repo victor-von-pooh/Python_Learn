{
  "cells": [
    {
      "attachments": {},
      "cell_type": "markdown",
      "metadata": {
        "id": "YR3luEX1_853"
      },
      "source": [
        "# Python入門編 その1"
      ]
    },
    {
      "attachments": {},
      "cell_type": "markdown",
      "metadata": {
        "id": "vhjllmqlAC6e"
      },
      "source": [
        "## イントロダクション\n",
        "\n",
        "こんにちは、東京理科大学所属の秋田と申します！\n",
        "\n",
        "今回は、Pythonを使ったプログラミングをしてみようと思っている民に向けて、「ゼロから始める」をモットーにチュートリアルを作ってみたので、是非楽しんで学んでくだされ〜。"
      ]
    },
    {
      "attachments": {},
      "cell_type": "markdown",
      "metadata": {
        "id": "y9TKHxikkVY-"
      },
      "source": [
        "## Section 1. 「Pythonの文法の基礎」\n",
        "\n",
        "キーワード :\n",
        "*   入出力\n",
        "*   変数の型\n",
        "*   for文\n",
        "*   if文"
      ]
    },
    {
      "attachments": {},
      "cell_type": "markdown",
      "metadata": {
        "id": "7A7MLZfFUiK3"
      },
      "source": [
        "では早速プログラムを組んでみましょう。\n",
        "\n",
        "まずは出力をするところから始めましょう。\n",
        "\n",
        "Pythonでの出力は他言語に比べ非常に簡単で、試しに「単位落とした！」と出力してみましょうか。"
      ]
    },
    {
      "cell_type": "code",
      "execution_count": null,
      "metadata": {
        "id": "mO2GaJMe_0h7"
      },
      "outputs": [],
      "source": [
        "print('単位落とした！')"
      ]
    },
    {
      "attachments": {},
      "cell_type": "markdown",
      "metadata": {
        "id": "W5dtfkJZVQsQ"
      },
      "source": [
        "はい、これだけです。\n",
        "\n",
        "たった1行からプログラムが出来ちゃうんです！\n",
        "\n",
        "ではこのまま入力もやってみましょう。"
      ]
    },
    {
      "cell_type": "code",
      "execution_count": null,
      "metadata": {
        "id": "qMfa20Z9XmLj"
      },
      "outputs": [],
      "source": [
        "input_something = input()"
      ]
    },
    {
      "attachments": {},
      "cell_type": "markdown",
      "metadata": {
        "id": "CZUYMABwX1Tr"
      },
      "source": [
        "`input_something` という変数に入力したものを格納します。\n",
        "\n",
        "= の右側の `input()` は入力を受け取ってくれる関数となっています。\n",
        "\n",
        "この入力は文字列(string)となっています。\n",
        "\n",
        "なので、例えば入力に '1' と '2' を入れて足すということをしても '3' にはなりません。\n",
        "\n",
        "試しにどうなるか出力してみましょうか。"
      ]
    },
    {
      "cell_type": "code",
      "execution_count": null,
      "metadata": {
        "id": "lt2ToA4ZY7Ga"
      },
      "outputs": [],
      "source": [
        "\"\"\"\n",
        "1\n",
        "2\n",
        "\"\"\"\n",
        "\n",
        "input_something_1 = input()\n",
        "input_something_2 = input()\n",
        "\n",
        "output = input_something_1 + input_something_2\n",
        "print(output)"
      ]
    },
    {
      "attachments": {},
      "cell_type": "markdown",
      "metadata": {
        "id": "htwjJL-3ZQLE"
      },
      "source": [
        "はい、 '12' と出力されました。\n",
        "\n",
        "これは、入力が文字列なので出力も文字列になってしまうからです。\n",
        "\n",
        "例を挙げると、入力を 'りんご', 'みかん' にして同じプログラムを動かすと 'りんごみかん' と返ってくるということです。\n",
        "\n",
        "では、数値として受け取るにはどうしたらいいでしょうか。\n",
        "\n",
        "次のようにしてみます。"
      ]
    },
    {
      "cell_type": "code",
      "execution_count": null,
      "metadata": {
        "id": "2SWfWYW5Zz5A"
      },
      "outputs": [],
      "source": [
        "\"\"\"\n",
        "1\n",
        "2\n",
        "\"\"\"\n",
        "\n",
        "input_something_1 = int(input())\n",
        "input_something_2 = int(input())\n",
        "\n",
        "output = input_something_1 + input_something_2\n",
        "print(output)"
      ]
    },
    {
      "attachments": {},
      "cell_type": "markdown",
      "metadata": {
        "id": "Lf6IetQiZ7CS"
      },
      "source": [
        "先ほどのものとの違いは、 `input()` を `int()` の()で囲っているということです。\n",
        "\n",
        "int とは、 integer(整数) のことで、入力したものを整数として認識するということです。\n",
        "\n",
        "よって、数値入力に対しては有効である一方、 'りんご' などの文字列入力などにはエラーを起こしてしまいますね。\n",
        "\n",
        "では、整数を返すのであれば、少数を入力したらどうなるでしょうか。\n",
        "\n",
        "試しに '1.2' と入力してみましょう。"
      ]
    },
    {
      "cell_type": "code",
      "execution_count": null,
      "metadata": {
        "id": "TZyMIHSXaxCo"
      },
      "outputs": [],
      "source": [
        "\"\"\"\n",
        "1.2\n",
        "\"\"\"\n",
        "\n",
        "input_something = int(input())\n",
        "print(input_something)"
      ]
    },
    {
      "attachments": {},
      "cell_type": "markdown",
      "metadata": {
        "id": "x5ISd8Scerbc"
      },
      "source": [
        "あ、怒られましたね(笑)\n",
        "\n",
        "そういう場合はどうするかということですが、基本的に少数は 'float()' を使います。"
      ]
    },
    {
      "cell_type": "code",
      "execution_count": null,
      "metadata": {
        "id": "tfyVytCze8-K"
      },
      "outputs": [],
      "source": [
        "\"\"\"\n",
        "1.2\n",
        "\"\"\"\n",
        "\n",
        "input_something = float(input())\n",
        "print(input_something)"
      ]
    },
    {
      "attachments": {},
      "cell_type": "markdown",
      "metadata": {
        "id": "NS7y-g2PfF5R"
      },
      "source": [
        "と、このようにちゃんと認識してくれますね。\n",
        "\n",
        "また、一度プログラムが少数と認識してくれたものに関しては、先ほどの 'int()' で整数値だけ引っ張り出すことができます。\n",
        "\n",
        "では同じように '1.2' とすると何が返ってくるでしょうか？"
      ]
    },
    {
      "cell_type": "code",
      "execution_count": null,
      "metadata": {
        "id": "QmnVNGIseaVI"
      },
      "outputs": [],
      "source": [
        "\"\"\"\n",
        "1.2\n",
        "\"\"\"\n",
        "\n",
        "input_something = float(input())\n",
        "input_something = int(input_something)\n",
        "print(input_something)"
      ]
    },
    {
      "attachments": {},
      "cell_type": "markdown",
      "metadata": {
        "id": "LWxCP72ufk9c"
      },
      "source": [
        "'1' と返ってきますね。\n",
        "\n",
        "では、 '1.8' ではどうでしょうか？\n",
        "\n",
        "切り捨て？切り上げ？四捨五入？"
      ]
    },
    {
      "cell_type": "code",
      "execution_count": null,
      "metadata": {
        "id": "L1h5P0m6fkVx"
      },
      "outputs": [],
      "source": [
        "\"\"\"\n",
        "1.8\n",
        "\"\"\"\n",
        "\n",
        "input_something = float(input())\n",
        "input_something = int(input_something)\n",
        "print(input_something)"
      ]
    },
    {
      "attachments": {},
      "cell_type": "markdown",
      "metadata": {
        "id": "EWwIdSHegawQ"
      },
      "source": [
        "'1' と返ってきますね。\n",
        "\n",
        "切り捨てだとわかりました。\n",
        "\n",
        "逆に、整数型で受け取った変数を 'float()' で囲ってみると、ただの '.0' が付与されるだけです。\n",
        "\n",
        "このように、扱う変数は型を持っていて、場合によっては行き来できるようになっています。\n",
        "\n",
        "文字列の形にしたければ、 'str()' で囲えば大丈夫です。\n",
        "\n",
        "続いて、for文についてです。\n",
        "\n",
        "似たようなものにwhile文がありますが、それは必要であれば後で出しましょう。\n",
        "\n",
        "for文は、指定した回数だけ、その中のプログラムを繰り返し回すものです。\n",
        "\n",
        "次のような使い方をします。\n",
        "\n",
        "ここでは先ほどの「単位落とした！」という文章を10回出力するものになります。"
      ]
    },
    {
      "cell_type": "code",
      "execution_count": null,
      "metadata": {
        "id": "35x1WQjKiYZz"
      },
      "outputs": [],
      "source": [
        "for i in range(10):\n",
        "    print('単位落とした！')"
      ]
    },
    {
      "attachments": {},
      "cell_type": "markdown",
      "metadata": {
        "id": "P0DwQI86ioIo"
      },
      "source": [
        "forの後の 'i' は今回特に意味を成しませんが、この後しっかり出てきます。\n",
        "\n",
        "`for 'something' in range('args'):`\n",
        "\n",
        "と書き、 'something' のところは好きに名前をつけても大丈夫ですが、一般的に数を扱ってくる場合は 'i' や 'j' を優先的に使うことが多いです。\n",
        "\n",
        "そして、 range() の中の 'args' はこの range() という関数の引数を入れます。\n",
        "\n",
        "引数が1つの場合は、ここに整数を入れ、その回数だけfor文の中の処理を行います。\n",
        "\n",
        "2つの場合は、 range(5, 10) というように書き、1つ目の5は 'i' を5から始めて、 'i' が9(10 - 1)になるまで処理を行うという意味になります。\n",
        "\n",
        "これが少し直感に反するもので、コンピュータというのは基本的に0から数え始めます。\n",
        "\n",
        "3つの場合はそんなに使わないので省略します。\n",
        "\n",
        "さて、気づいた方もいると思いますが、1回ごとに改行がなされていますね。\n",
        "\n",
        "Pythonでは 'print()' をするごとに改行が行われます。\n",
        "\n",
        "これを改行せずに出力する方法はありますが、それは一旦置いておきましょうか(笑)\n",
        "\n",
        "では実際に 'i' を使ったプログラムを組んでみましょう。"
      ]
    },
    {
      "cell_type": "code",
      "execution_count": null,
      "metadata": {
        "id": "bGSec8crinxv"
      },
      "outputs": [],
      "source": [
        "for i in range(10):\n",
        "    print(f'{i}単位落とした！')"
      ]
    },
    {
      "attachments": {},
      "cell_type": "markdown",
      "metadata": {
        "id": "t_kIMc00CM7E"
      },
      "source": [
        "このように、 'i' が1ずつ大きくなって出力されていますね。\n",
        "\n",
        "そして範囲が0〜9なのも確認できました。\n",
        "\n",
        "もうちょっと見てみましょう、 range() の引数を2つにしてみるとこのようになります。"
      ]
    },
    {
      "cell_type": "code",
      "execution_count": null,
      "metadata": {
        "id": "AXhS6CiDCMeG"
      },
      "outputs": [],
      "source": [
        "for i in range(5, 10):\n",
        "    print(f'{i}単位落とした！')"
      ]
    },
    {
      "attachments": {},
      "cell_type": "markdown",
      "metadata": {
        "id": "UyhHob67DYnc"
      },
      "source": [
        "続いて、if文という条件分岐をしてくれる処理について学びましょう。\n",
        "\n",
        "先ほどのfor文を使って、 'i' が偶数のときだけ出力するプログラムを立ててみましょう！"
      ]
    },
    {
      "cell_type": "code",
      "execution_count": null,
      "metadata": {
        "id": "1AH24UUcEM43"
      },
      "outputs": [],
      "source": [
        "for i in range(10):\n",
        "    if i % 2 == 0:\n",
        "        print(i)"
      ]
    },
    {
      "attachments": {},
      "cell_type": "markdown",
      "metadata": {
        "id": "ysJq4s7JEblL"
      },
      "source": [
        "ここで、 '%' は 'i' を2で割った余りを出すという意味で、 '==' と '=' を2つ並べるのは、1つだと「代入」の意味になってしまい、「等号」の意味にするために2つ並べる必要があるからです。\n",
        "\n",
        "このif文の中では、この条件のもとでのみ処理を行なうことになります。\n",
        "\n",
        "if文には他にセットで覚えておくことがあり、それは他の条件を設定する 'elif' と、その他の場合という意味の 'else' です。\n",
        "\n",
        "まずは 'elif' から見てみましょう。\n",
        "\n",
        "0〜9の中で3で割った余りが0, 1, 2それぞれの場合で文章が変わるようなプログラムを立ててみましょう！"
      ]
    },
    {
      "cell_type": "code",
      "execution_count": null,
      "metadata": {
        "id": "2Xu9VnhDGm9A"
      },
      "outputs": [],
      "source": [
        "for i in range(10):\n",
        "    if i % 3 == 0:\n",
        "        print('単位落とした！')\n",
        "    elif i % 3 == 1:\n",
        "        print('単位取った！')\n",
        "    elif i % 3 == 2:\n",
        "        print('単位没収された！？')"
      ]
    },
    {
      "attachments": {},
      "cell_type": "markdown",
      "metadata": {
        "id": "-qAytY7bGmfE"
      },
      "source": [
        "'elif' を2回使って条件を3つに分けることが出来ましたが、3で割ったときの余りは0か1か2しかなく、0と1の条件を書いた後は残り2になる場合しかないので、わざわざもう一度 'elif' の条件文を使う必要はなく、 'else' を使って簡単に書くことが出来ます。"
      ]
    },
    {
      "cell_type": "code",
      "execution_count": null,
      "metadata": {
        "id": "FqtKB_sqIQBD"
      },
      "outputs": [],
      "source": [
        "for i in range(10):\n",
        "    if i % 3 == 0:\n",
        "        print('単位落とした！')\n",
        "    elif i % 3 == 1:\n",
        "        print('単位取った！')\n",
        "    else:\n",
        "        print('単位没収された！？')"
      ]
    },
    {
      "attachments": {},
      "cell_type": "markdown",
      "metadata": {
        "id": "Ph0GbdNiIWK_"
      },
      "source": [
        "簡単になりますね！"
      ]
    },
    {
      "attachments": {},
      "cell_type": "markdown",
      "metadata": {
        "id": "9EV6L41iIy9f"
      },
      "source": [
        "## Section 2. 「配列」\n",
        "\n",
        "キーワード :\n",
        "*   ベクトル\n",
        "*   行列\n",
        "*   テンソル\n",
        "*   要素の追加"
      ]
    },
    {
      "attachments": {},
      "cell_type": "markdown",
      "metadata": {
        "id": "E5a19rMtJmpp"
      },
      "source": [
        "プログラムを組む上で、算出した値を保存するものが必要になってきますね。\n",
        "\n",
        "他にもデータとしてすぐに引き出せるようにしないといけない場面はたくさんあります。\n",
        "\n",
        "そのような場合に役に立つのが配列です。"
      ]
    },
    {
      "cell_type": "code",
      "execution_count": null,
      "metadata": {
        "id": "zhzDH1z5Kou2"
      },
      "outputs": [],
      "source": [
        "words = ['りんご', 'みかん', 'バナナ', 'いちご']"
      ]
    },
    {
      "attachments": {},
      "cell_type": "markdown",
      "metadata": {
        "id": "I4Y9EAjXK1M5"
      },
      "source": [
        "配列を作るときは、 '[]' の中に要素を入れます。\n",
        "\n",
        "',' で区切って考えるので、上で作った 'words' という配列の中には4つの果物の名前が格納されています。\n",
        "\n",
        "今考えている配列は、1次元なのでこれを「ベクトル」という風に呼ぶこともあります。\n",
        "\n",
        "この 'words' の中から 'バナナ' だけを抜き取り、それを出力させてみます。"
      ]
    },
    {
      "cell_type": "code",
      "execution_count": null,
      "metadata": {
        "id": "pDV8ogA2LlZh"
      },
      "outputs": [],
      "source": [
        "words = ['りんご', 'みかん', 'バナナ', 'いちご']\n",
        "banana = words[2]\n",
        "\n",
        "print(banana)"
      ]
    },
    {
      "attachments": {},
      "cell_type": "markdown",
      "metadata": {
        "id": "Ms_zbs_BLw-q"
      },
      "source": [
        "'words' という配列の中で、 'バナナ' は3番目にいるので、インデックス番号は2となります(0から数えるため)。\n",
        "\n",
        "よって、 'words[2]' と 'words' の後ろに '[2]' と付けてあげることによって 'words' ベクトルの3番目の要素を指すことになります。\n",
        "\n",
        "ということは、for文を用いて、全ての要素を順番に抜き出すことも出来ますね。"
      ]
    },
    {
      "cell_type": "code",
      "execution_count": null,
      "metadata": {
        "id": "cIZHcLDZMfdO"
      },
      "outputs": [],
      "source": [
        "for i in range(4):\n",
        "    print(words[i])"
      ]
    },
    {
      "attachments": {},
      "cell_type": "markdown",
      "metadata": {
        "id": "rpB-13FGMnTh"
      },
      "source": [
        "配列には、長さというものがあります。\n",
        "\n",
        "今回の場合、4つの要素があるので長さも4となります。\n",
        "\n",
        "しかし、場合によっては長さがわからない配列が与えられることがあったり、こちらが忘れてしまうこともよくあります。\n",
        "\n",
        "そんなときには、その配列の長さを教えてくれる 'len()' という関数があります。\n",
        "\n",
        "やってみましょう！"
      ]
    },
    {
      "cell_type": "code",
      "execution_count": null,
      "metadata": {
        "id": "z-2JbFiWNDKO"
      },
      "outputs": [],
      "source": [
        "words = ['りんご', 'みかん', 'バナナ', 'いちご']\n",
        "length = len(words)\n",
        "\n",
        "print(length)"
      ]
    },
    {
      "attachments": {},
      "cell_type": "markdown",
      "metadata": {
        "id": "aieyoY4lNL58"
      },
      "source": [
        "'len()' の中に配列の名前を入れてあげることで確認が出来ました！\n",
        "\n",
        "for文と組み合わせるときにはこの 'len()' を使って範囲を指定することが多いです。"
      ]
    },
    {
      "cell_type": "code",
      "execution_count": null,
      "metadata": {
        "id": "27ArD6diNhEZ"
      },
      "outputs": [],
      "source": [
        "for i in range(len(words)):\n",
        "    print(words[i])"
      ]
    },
    {
      "attachments": {},
      "cell_type": "markdown",
      "metadata": {
        "id": "60qAnGjTNuSE"
      },
      "source": [
        "世の中のデータというものを全て1次元で管理しようとするのは難しい話です。\n",
        "\n",
        "例えば、中学校の同学年の人数が120人で、1クラスあたり40人とすれば3クラスできるように、要素数40個のベクトルを3つ並べるということをします。\n",
        "\n",
        "つまり、ベクトルのベクトルを作るということです。\n",
        "\n",
        "これは1次元管理が難しい場合に2次元拡張することで、データの取得を簡単に出来ちゃいます。\n",
        "\n",
        "この2次元の配列を「行列」と言うことがあります。"
      ]
    },
    {
      "cell_type": "code",
      "execution_count": null,
      "metadata": {
        "id": "OEtNTvToOxZa"
      },
      "outputs": [],
      "source": [
        "matrix = [\n",
        "    ['りんご', 'みかん', 'バナナ' , 'いちご'],\n",
        "    ['人参', 'キャベツ', '玉ねぎ', 'ピーマン'],\n",
        "    ['マグロ', '鮭', 'カツオ', 'イワシ']\n",
        "]"
      ]
    },
    {
      "attachments": {},
      "cell_type": "markdown",
      "metadata": {
        "id": "RUk2YY1NPfcg"
      },
      "source": [
        "さて、この行列の長さはどうなるでしょうか？"
      ]
    },
    {
      "cell_type": "code",
      "execution_count": null,
      "metadata": {
        "id": "u8PCwGSKPlqB"
      },
      "outputs": [],
      "source": [
        "print(len(matrix))"
      ]
    },
    {
      "attachments": {},
      "cell_type": "markdown",
      "metadata": {
        "id": "4fK2o9tnPp09"
      },
      "source": [
        "はい、これは構造として3つのベクトルで構成されているので長さは3となりますね。\n",
        "\n",
        "試しに要素を出力してみましょうか。"
      ]
    },
    {
      "cell_type": "code",
      "execution_count": null,
      "metadata": {
        "id": "IHAmWkshP7qN"
      },
      "outputs": [],
      "source": [
        "for i in range(len(matrix)):\n",
        "    print(matrix[i])"
      ]
    },
    {
      "attachments": {},
      "cell_type": "markdown",
      "metadata": {
        "id": "aUtGc64IQg2H"
      },
      "source": [
        "今、各iにおいて 'matrix[i]' はベクトルとなっているので、このベクトルの中の要素を取り出したいときは、 'matrix[i][j]' のようにしなければいけません。"
      ]
    },
    {
      "cell_type": "code",
      "execution_count": null,
      "metadata": {
        "id": "V8q-3aJZRUzA"
      },
      "outputs": [],
      "source": [
        "matrix = [\n",
        "    ['りんご', 'みかん', 'バナナ' , 'いちご'],\n",
        "    ['人参', 'キャベツ', '玉ねぎ', 'ピーマン'],\n",
        "    ['マグロ', '鮭', 'カツオ', 'イワシ']\n",
        "]\n",
        "salmon = matrix[2][1]\n",
        "\n",
        "print(salmon)"
      ]
    },
    {
      "attachments": {},
      "cell_type": "markdown",
      "metadata": {
        "id": "oJW6bJkoRkFg"
      },
      "source": [
        "ここで、 'i' と 'j' は範囲が(一般的に)異なるのでそれぞれで変数を定義する必要があります。\n",
        "\n",
        "よって同一のfor文の中で 'matrix[i][j]' とすると 'j' とはなんぞやと怒られたり、 'matrix[i][i]' とすると対角成分しか抜き出されなかったりとなるわけです。\n",
        "\n",
        "こんなときのためにfor文を2重にするということをします。"
      ]
    },
    {
      "cell_type": "code",
      "execution_count": null,
      "metadata": {
        "id": "J9_dTfJLSHbx"
      },
      "outputs": [],
      "source": [
        "for i in range(len(matrix)):\n",
        "    for j in range(len(matrix[i])):\n",
        "        print(matrix[i][j])"
      ]
    },
    {
      "attachments": {},
      "cell_type": "markdown",
      "metadata": {
        "id": "H3Kv98rqSGhH"
      },
      "source": [
        "ここで勘の良い方は気づいたかもしれないですが、2次元止まりではないかもしれないということですね。\n",
        "\n",
        "つまり、行列を要素とするベクトルを作ることもできるだろうと。\n",
        "\n",
        "例えば、先ほどの例で言うと、1クラス40人で3クラスで1学年、3学年あるのでそれが3つとなりますね。\n",
        "\n",
        "また、個人の科目別の成績を考え、 '['国語', '数学', '社会', '理科', '英語']' の定期テストの点数を一番小さい単位とすると4次元にまで拡張されます。\n",
        "\n",
        "このように2次元以上の配列を考える場合もあり、3次元から先を「テンソル」と言うことがあります。\n",
        "\n",
        "そのような場合も同様に考えれば大丈夫です。\n",
        "\n",
        "では、今度は配列の要素を追加することを考えましょう。\n",
        "\n",
        "先ほどの 'words' の中に 'ぶどう' を追加してみましょう。"
      ]
    },
    {
      "cell_type": "code",
      "execution_count": null,
      "metadata": {
        "id": "YlWAeaT6UYdV"
      },
      "outputs": [],
      "source": [
        "words = ['りんご', 'みかん', 'バナナ', 'いちご']\n",
        "print(words)\n",
        "\n",
        "words.append('ぶどう')\n",
        "print(words)"
      ]
    },
    {
      "attachments": {},
      "cell_type": "markdown",
      "metadata": {
        "id": "wB5TVNhyUm9J"
      },
      "source": [
        "このように、 `.append()` とすることで要素を追加することが出来ます。\n",
        "\n",
        "逆に要素を削除する方法はいくつかあるのですが、使わないことの方が多いので今回は省略します。"
      ]
    },
    {
      "attachments": {},
      "cell_type": "markdown",
      "metadata": {
        "id": "dJU1n4edV1AZ"
      },
      "source": [
        "## Exercises"
      ]
    },
    {
      "attachments": {},
      "cell_type": "markdown",
      "metadata": {
        "id": "CpFE1ddKWJuA"
      },
      "source": [
        "### Exercise 1.\n",
        "\n",
        "0〜86399までの整数を入力して、 H:M:S (Hは時間、Mは分、Sは秒) となるように変換しましょう。\n",
        "\n",
        "例えば、入力が 46979 のとき、 13:2:59 と出力されるようにしましょう。\n",
        "\n",
        "このとき、 ':' の前後に空白は入れてはいけません。\n",
        "\n",
        "また、ライブラリのインポート(すなわち `import ~~~` というもの)は禁止とします。"
      ]
    },
    {
      "cell_type": "code",
      "execution_count": null,
      "metadata": {
        "id": "Ti0Oh52dXyBP"
      },
      "outputs": [],
      "source": [
        "# 入力する整数一覧\n",
        "nums = [4198, 6313, 349, 85131, 73240]\n",
        "ans = []\n",
        "\n",
        "for index in range(len(nums)):\n",
        "    input_num = nums[index]\n",
        "\n",
        "    # コードを書いてください↓↓↓\n",
        "    \n",
        "    # コードを書いてください↑↑↑\n",
        "\n",
        "    ans.append(answer) # 答えを answer という変数名で保存する"
      ]
    },
    {
      "attachments": {},
      "cell_type": "markdown",
      "metadata": {
        "id": "SFU3ZOI2czku"
      },
      "source": [
        "ヒント1.\n",
        "\n",
        "> 整数 m を 整数 n で割ったときの商を求める演算子は '//'\n",
        "> \n",
        "> つまり `x = 100 // 5` で x は20となる\n",
        "\n",
        "ヒント2.\n",
        "\n",
        "> y = f'xは{x}' とすると yは「xは20」という文字列になる"
      ]
    },
    {
      "cell_type": "code",
      "execution_count": null,
      "metadata": {
        "id": "muJKRY2TaEZE"
      },
      "outputs": [],
      "source": [
        "# 答え合わせ\n",
        "\n",
        "correct_ans = ['1:9:58', '1:45:13', '0:5:49', '23:38:51', '20:20:40']\n",
        "for i in range(len(ans)):\n",
        "    if ans[i] == correct_ans[i]:\n",
        "        print('正解')\n",
        "    else:\n",
        "        print('不正解')"
      ]
    },
    {
      "attachments": {},
      "cell_type": "markdown",
      "metadata": {
        "id": "LUinuJ8aemAL"
      },
      "source": [
        "### Exercise 2.\n",
        "\n",
        "縦H個、横W個の長方形を描くプログラムを作成しましょう。\n",
        "\n",
        "ただし、 '#' を周上だけにし、中は '+' になるように出力します。\n",
        "\n",
        "例えば、 H = 4, W = 5 の場合、"
      ]
    },
    {
      "cell_type": "code",
      "execution_count": null,
      "metadata": {
        "id": "cpTJhUuS4P1A"
      },
      "outputs": [],
      "source": [
        "#####\n",
        "#+++#\n",
        "#+++#\n",
        "#####"
      ]
    },
    {
      "attachments": {},
      "cell_type": "markdown",
      "metadata": {
        "id": "RhohSf4S4T3N"
      },
      "source": [
        "のように出力しましょう。\n",
        "\n",
        "また、ライブラリのインポート(すなわち `import ~~~` というもの)は禁止とします。"
      ]
    },
    {
      "cell_type": "code",
      "execution_count": null,
      "metadata": {
        "id": "kyi3qpMGv2RU"
      },
      "outputs": [],
      "source": [
        "# 入力するH, W一覧\n",
        "H = [3, 7, 5]\n",
        "W = [4, 6, 5]\n",
        "\n",
        "for inputs in range(len(H)):\n",
        "    h = H[inputs]\n",
        "    w = W[inputs]\n",
        "\n",
        "    # コードを書いてください↓↓↓\n",
        "    \n",
        "    # コードを書いてください↑↑↑"
      ]
    },
    {
      "attachments": {},
      "cell_type": "markdown",
      "metadata": {
        "id": "I7sVHs5u3eyH"
      },
      "source": [
        "ヒント1.\n",
        "\n",
        "> h, wそれぞれでfor文(つまり2重for文)\n",
        "\n",
        "ヒント2.\n",
        "\n",
        "> `print('#', end='')` と2つ目の引数を入れると print() での改行がなくなる"
      ]
    },
    {
      "attachments": {},
      "cell_type": "markdown",
      "metadata": {
        "id": "Fuzc9pFP5XFP"
      },
      "source": [
        "### Exercise 3.\n",
        "\n",
        "[この問題](https://judge.u-aizu.ac.jp/onlinejudge/description.jsp?id=ITP1_11_A&lang=ja)をPythonで解きましょう。\n",
        "\n",
        "また、ライブラリのインポート(すなわち `import ~~~` というもの)は禁止とします。"
      ]
    },
    {
      "cell_type": "code",
      "execution_count": null,
      "metadata": {
        "id": "-hEUaKHu509S"
      },
      "outputs": [],
      "source": [
        "# 入力一覧\n",
        "inputs = [\n",
        "    [[1, 2, 4, 8, 16, 32], 'SE'],\n",
        "    [[1, 2, 4, 8, 16, 32], 'EESWN'],\n",
        "    [[7, 8, 9, 10, 11, 12], 'W'],\n",
        "    [[1, 2, 3, 4, 5, 6], 'SSSSSEEEWWWNNNSSSNEENNNWWWWEEEENNNNNNNSSNNSNSNSNSWEWEWENNN'],\n",
        "    [[32, 59, 68, 1, 2, 12], 'SSNWNNSESSNWNWNNSEWWSSWWNWWNSESSWNNWNNSESSSSNWNNSESSSSNWNNSESSWWNWNNSESSSSNWNNSESSEWNWSSSESSWWNWSNSE']\n",
        "]\n",
        "\n",
        "# 正解出力\n",
        "outputs = [8, 32, 9, 6, 1]\n",
        "\n",
        "for index in range(len(inputs)):\n",
        "    dice = inputs[index][0]\n",
        "    order = inputs[index][1]\n",
        "\n",
        "    answer = outputs[index]\n",
        "\n",
        "    # コードを書いてください↓↓↓\n",
        "    \n",
        "    # コードを書いてください↑↑↑\n",
        "\n",
        "    if my_ans == answer: # 答えを my_ans という変数名で保存する\n",
        "        print('正解')\n",
        "    else:\n",
        "        print('不正解')"
      ]
    },
    {
      "attachments": {},
      "cell_type": "markdown",
      "metadata": {
        "id": "J_xiF9tO81pd"
      },
      "source": [
        "ヒント1.\n",
        "\n",
        "> 普通のサイコロは出た目とその裏の合計は必ず7になる\n",
        "\n",
        "ヒント2.\n",
        "\n",
        "> E, W, N, Sそれぞれの場合に条件分岐させる"
      ]
    }
  ],
  "metadata": {
    "colab": {
      "private_outputs": true,
      "provenance": [],
      "toc_visible": true
    },
    "gpuClass": "standard",
    "kernelspec": {
      "display_name": "Python 3",
      "language": "python",
      "name": "python3"
    },
    "language_info": {
      "name": "python",
      "version": "3.10.5"
    },
    "vscode": {
      "interpreter": {
        "hash": "7e1998ff7f8aa20ada591c520b972326324e5ea05489af9e422744c7c09f6dad"
      }
    }
  },
  "nbformat": 4,
  "nbformat_minor": 0
}

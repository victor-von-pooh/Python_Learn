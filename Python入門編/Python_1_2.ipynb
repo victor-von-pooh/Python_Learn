{
  "nbformat": 4,
  "nbformat_minor": 0,
  "metadata": {
    "colab": {
      "private_outputs": true,
      "provenance": []
    },
    "kernelspec": {
      "name": "python3",
      "display_name": "Python 3"
    },
    "language_info": {
      "name": "python"
    },
    "gpuClass": "standard"
  },
  "cells": [
    {
      "cell_type": "markdown",
      "source": [
        "# Python入門編 その2"
      ],
      "metadata": {
        "id": "RF34idgBNpUh"
      }
    },
    {
      "cell_type": "markdown",
      "source": [
        "## イントロダクション\n",
        "\n",
        "こんにちは、東京理科大学所属の秋田と申します！\n",
        "\n",
        "[前回](https://qiita.com/Hiroki_Akita/items/328698b7c40e8a040aed)は、Pythonに関する基本的な文法事項をメインに紹介しました。\n",
        "\n",
        "今回はPythonのライブラリを使ってもっと便利なことをやってみましょう！"
      ],
      "metadata": {
        "id": "74M-izfbNrXb"
      }
    },
    {
      "cell_type": "markdown",
      "source": [
        "## Section 3. 「NumPyライブラリ」\n",
        "\n",
        "キーワード :\n",
        "*   import\n",
        "*   エイリアス"
      ],
      "metadata": {
        "id": "4zUOVJ2lQDIc"
      }
    },
    {
      "cell_type": "markdown",
      "source": [
        "NumPy([公式ドキュメント](https://numpy.org/))は、Pythonでの計算処理を高速化するためのライブラリです。\n",
        "\n",
        "Pythonは「**インタプリタ言語**」と言って、プログラムを1行ずつ機械が理解できる言語に変換し、実行するので処理が遅くなってしまいます。\n",
        "\n",
        "インタプリタ言語と対になるのが「**コンパイル言語**」で、これはプログラム全体を機械が理解できる言語に変換した後、実行します。\n",
        "\n",
        "コンパイル言語の代表例としては、\n",
        "\n",
        "*   C言語\n",
        "*   COBOL\n",
        "\n",
        "などがあり、このNumPyはC言語で実装されているので数値計算をする上で効率化を図れます。"
      ],
      "metadata": {
        "id": "y6EPRL-lRSJ0"
      }
    },
    {
      "cell_type": "markdown",
      "source": [
        "まずはライブラリのインポートの仕方から見てみましょう。"
      ],
      "metadata": {
        "id": "Mob3Tj6Wk_Nl"
      }
    },
    {
      "cell_type": "code",
      "source": [
        "import numpy\n",
        "\n",
        "pipi = numpy.pi\n",
        "print(pipi)"
      ],
      "metadata": {
        "id": "37JZ67swlI_M"
      },
      "execution_count": null,
      "outputs": []
    },
    {
      "cell_type": "markdown",
      "source": [
        "このように '`import`' と書き、その後に使用したいライブラリの名前を入れることでことでインポートができます。\n",
        "\n",
        "また、よく使われるライブラリに関しては、別名(エイリアス)が一般的に定まっており、例えば\n",
        "\n",
        "*   numpy $→$ np\n",
        "*   matplotlib.pyplot $→$ plt\n",
        "*   seaborn $→$ sns\n",
        "*   pandas $→$ pd\n",
        "\n",
        "などがあります。\n",
        "\n",
        "これらは次のようにして扱えるようになります。"
      ],
      "metadata": {
        "id": "y3d6Bhx8lMlF"
      }
    },
    {
      "cell_type": "code",
      "source": [
        "import numpy as np\n",
        "\n",
        "pipi = np.pi\n",
        "print(pipi)"
      ],
      "metadata": {
        "id": "gioD2aj5njNk"
      },
      "execution_count": null,
      "outputs": []
    },
    {
      "cell_type": "markdown",
      "source": [
        "エイリアスを使うことで、コードをより綺麗にし、冗長な表現を避けることができます。\n",
        "\n",
        "続いて、上の二つのコードにある、 '.' 以降のものについて見てみましょう。\n",
        "\n",
        "これは、NumPy上に存在するモジュール・クラス・関数などを表しており、それらのインスタンスを作る際にこのように書きます。\n",
        "\n",
        "また、これらはimportの形でより簡単に書くこともできます。"
      ],
      "metadata": {
        "id": "oWe-ms-DnzXU"
      }
    },
    {
      "cell_type": "code",
      "source": [
        "from numpy import pi\n",
        "\n",
        "pipi = pi\n",
        "print(pipi)"
      ],
      "metadata": {
        "id": "pORwo9hTqhfo"
      },
      "execution_count": null,
      "outputs": []
    },
    {
      "cell_type": "markdown",
      "source": [
        "NumPyでは、独自の多次元配列を扱います。\n",
        "\n",
        "Pythonのデフォルトでは前回やったもので、リスト型という配列がありました。\n",
        "\n",
        "NumPyの提供するndarray型により、行列の計算を高速に行うことができます。"
      ],
      "metadata": {
        "id": "HgqUADERN-J_"
      }
    },
    {
      "cell_type": "code",
      "source": [
        "py_list = [0, 1, 2, 3, 4]\n",
        "print(f'Type list:\\t\\t {py_list}')\n",
        "\n",
        "np_ndarray = np.array(py_list)\n",
        "print(f'Type ndarray:\\t {np_ndarray}')"
      ],
      "metadata": {
        "id": "89UJjUKHR2DZ"
      },
      "execution_count": null,
      "outputs": []
    },
    {
      "cell_type": "markdown",
      "source": [
        "出力結果に ',' が出てこなくなりましたね。\n",
        "\n",
        "他にも色々やってみましょう。"
      ],
      "metadata": {
        "id": "QrOxv2p9TERf"
      }
    },
    {
      "cell_type": "code",
      "source": [
        "# 配列の次元を変える 'reshape()' メソッド\n",
        "\n",
        "arr = np.array([1, 2, 3, 4, 5, 6, 7, 8, 9])\n",
        "print(arr) # 1次元配列を...\n",
        "\n",
        "arr_reshaped = arr.reshape(3, 3)\n",
        "print('\\n  ↓  ↓  ↓  \\n')\n",
        "print(arr_reshaped) # 3×3の2次元配列に変える\n",
        "\n",
        "arr_re_reshaped = arr_reshaped.reshape(9)\n",
        "print('\\n  ↓  ↓  ↓  \\n')\n",
        "print(arr_re_reshaped) # 1次元配列に戻す"
      ],
      "metadata": {
        "id": "FTpT5im3TWMY"
      },
      "execution_count": null,
      "outputs": []
    },
    {
      "cell_type": "code",
      "source": [
        "# 転置の 'T' メソッド\n",
        "\n",
        "arr = np.array([1, 2, 3, 4, 5, 6, 7, 8, 9, 10])\n",
        "arr_reshaped = arr.reshape(2, 5)\n",
        "print(arr_reshaped) # 元の行列(ベクトル)を...\n",
        "\n",
        "arr_T = arr_reshaped.T\n",
        "print('\\n  ↓  ↓  ↓  \\n')\n",
        "print(arr_T) # 転置する"
      ],
      "metadata": {
        "id": "Eh_J6ELAWWSB"
      },
      "execution_count": null,
      "outputs": []
    },
    {
      "cell_type": "code",
      "source": [
        "# 行列の積やベクトルの内積を計算する 'dot()' メソッド\n",
        "\n",
        "matrix = np.array(\n",
        "    [\n",
        "        [1, 2, 3, 4],\n",
        "        [5, 6, 7, 8],\n",
        "        [9, 10, 11, 12]\n",
        "    ]\n",
        ")\n",
        "\n",
        "matrix_T = matrix.T\n",
        "\n",
        "multi_1 = np.dot(matrix, matrix_T) # matrix × matrix_T\n",
        "multi_2 = np.dot(matrix_T, matrix) # matrix_T × matrix\n",
        "\n",
        "print(f'multiple 1:\\n{multi_1}')\n",
        "print(f'\\nmultiple 2:\\n{multi_2}')"
      ],
      "metadata": {
        "id": "UuQjpUe9Xb4P"
      },
      "execution_count": null,
      "outputs": []
    },
    {
      "cell_type": "markdown",
      "source": [
        "その他様々な機能が揃っているので、興味があれば調べてみましょう！"
      ],
      "metadata": {
        "id": "gACkwCtWZ1cl"
      }
    },
    {
      "cell_type": "markdown",
      "source": [
        "## Section 4. 「Matplotlibライブラリ」\n",
        "\n",
        "キーワード :\n",
        "*   グラフの描画\n",
        "*   データ分析"
      ],
      "metadata": {
        "id": "-xXQfO4_aMDS"
      }
    },
    {
      "cell_type": "markdown",
      "source": [
        "Matplotlib([公式ドキュメント](https://matplotlib.org/))はグラフを描画するためのライブラリです。\n",
        "\n",
        "折れ線グラフや円グラフをはじめ、ヒストグラムや散布図なども表示・保存できます。\n",
        "\n",
        "データ分析をする際に非常に重要になります。\n",
        "\n",
        "Matplotlibでグラフを作る大まかな流れとしては\n",
        "\n",
        "1.   X軸になるデータを用意\n",
        "2.   Y軸になるデータを用意\n",
        "3.   '`plot()`' 関数でプロット\n",
        "4.   '`show()`' 関数で表示\n",
        "\n",
        "です。"
      ],
      "metadata": {
        "id": "usqQup8Jaw0F"
      }
    },
    {
      "cell_type": "code",
      "source": [
        "import matplotlib.pyplot as plt # Matplotlib では基本的に .pyplot までを一緒にインポートする\n",
        "\n",
        "x = [i for i in range(1, 31)]\n",
        "y = [\n",
        "    16.0, 14.1, 12.8, 14.0, 16.1, 18.8,\n",
        "    18.5, 14.6, 11.8, 14.6, 18.2, 19.2,\n",
        "    16.1, 18.2, 14.3, 16.2, 15.1, 13.6,\n",
        "    18.0, 20.4, 21.6, 14.9, 14.2, 13.2,\n",
        "    14.1, 15.6, 17.2, 18.7, 19.4, 19.7\n",
        "]\n",
        "\n",
        "plt.plot(x, y)\n",
        "plt.show()"
      ],
      "metadata": {
        "id": "Cz7X5dfGaLt7"
      },
      "execution_count": null,
      "outputs": []
    },
    {
      "cell_type": "markdown",
      "source": [
        "表示ができましたね。\n",
        "\n",
        "これは2023年4月の東京の日ごとの平均気温のデータです([ソース](https://www.data.jma.go.jp/obd/stats/etrn/view/daily_s1.php?prec_no=44&block_no=47662&year=2023&month=04&day=&view=a1))。\n",
        "\n",
        "しかし、これだけではデザインがあまり良くない上に、後々見返したときに何がなんだかわかりません。\n",
        "\n",
        "ここに、もうちょっと工夫をしましょう。"
      ],
      "metadata": {
        "id": "O8xiD5EEjKYY"
      }
    },
    {
      "cell_type": "code",
      "source": [
        "# タイトルの付与\n",
        "plt.title('Ave Temp, April. 2023, Tokyo', size=15, color='red')\n",
        "\n",
        "# 軸のラベルの付与\n",
        "plt.xlabel('Day')\n",
        "plt.ylabel('Temparature')\n",
        "\n",
        "# 各軸の範囲を指定\n",
        "plt.xlim(1, 30)\n",
        "plt.ylim(11.5, 22.0)\n",
        "\n",
        "# グリッドを描画\n",
        "plt.grid()\n",
        "\n",
        "plt.plot(x, y)\n",
        "plt.show()"
      ],
      "metadata": {
        "id": "cKYzhk5Nj3xu"
      },
      "execution_count": null,
      "outputs": []
    },
    {
      "cell_type": "markdown",
      "source": [
        "先ほどに比べてだいぶ見やすくなったのではないでしょうか。\n",
        "\n",
        "次は、気温に加えて湿度もプロットしてみましょう。"
      ],
      "metadata": {
        "id": "I6kZs18kmQqa"
      }
    },
    {
      "cell_type": "code",
      "source": [
        "# 画像のサイズを指定\n",
        "plt.figure(figsize=(18, 12))\n",
        "\n",
        "plt.title('Ave Temp and Hum, April. 2023, Tokyo', size=15, color='red')\n",
        "plt.xlabel('Day')\n",
        "plt.xlim(1, 30)\n",
        "\n",
        "y_hum = [\n",
        "    63, 67, 57, 54, 58, 67, 85, 70, 43, 47,\n",
        "    57, 66, 47, 59, 91, 89, 46, 61, 69, 72,\n",
        "    66, 45, 38, 38, 56, 87, 52, 64, 66, 90\n",
        "]\n",
        "\n",
        "plt.grid()\n",
        "\n",
        "# 2種類のグラフをプロット\n",
        "plt.plot(x, y, label='Temparature')\n",
        "plt.plot(x, y_hum, label='Humidity')\n",
        "\n",
        "# 2つのグラフの凡例を付与\n",
        "plt.legend(bbox_to_anchor=(1.01, 1), loc='upper left', borderaxespad=0.)\n",
        "plt.show()"
      ],
      "metadata": {
        "id": "VX9UGNL0ron1"
      },
      "execution_count": null,
      "outputs": []
    },
    {
      "cell_type": "markdown",
      "source": [
        "グラフを分けて表示するには '`subplot()`' メソッドを使います。"
      ],
      "metadata": {
        "id": "oXt4ZBmz2X76"
      }
    },
    {
      "cell_type": "code",
      "source": [
        "plt.figure(figsize=(16, 12), tight_layout=True)\n",
        "\n",
        "# 1つ目\n",
        "plt.subplot(211) # 引数は LMN の各1桁の整数、順に「縦の分割数」, 「横の分割数」, 「左上からの順番」\n",
        "plt.title('Ave Temp, April. 2023, Tokyo', size=15, color='red')\n",
        "plt.xlim(1, 30)\n",
        "plt.ylim(11.5, 22.0)\n",
        "plt.plot(x, y, label='Temparature')\n",
        "plt.xlabel('Day')\n",
        "plt.ylabel('Temparature')\n",
        "plt.grid()\n",
        "plt.legend(bbox_to_anchor=(1.01, 1), loc='upper left', borderaxespad=0.)\n",
        "\n",
        "# 2つ目\n",
        "plt.subplot(212)\n",
        "plt.title('Ave Hum, April. 2023, Tokyo', size=15, color='green')\n",
        "plt.xlim(1, 30)\n",
        "plt.ylim(35, 93)\n",
        "plt.plot(x, y_hum, label='Humidity', color='orange')\n",
        "plt.xlabel('Day')\n",
        "plt.ylabel('Humidity')\n",
        "plt.grid()\n",
        "plt.legend(bbox_to_anchor=(1.01, 1), loc='upper left', borderaxespad=0.)\n",
        "\n",
        "plt.show()"
      ],
      "metadata": {
        "id": "I1tZrGGM2kf6"
      },
      "execution_count": null,
      "outputs": []
    },
    {
      "cell_type": "markdown",
      "source": [
        "だいぶ複雑なものになってきましたね。\n",
        "\n",
        "今回は折れ線グラフを扱いましたが、他にも色々できるので挑戦してみてください。"
      ],
      "metadata": {
        "id": "QU9gHVR673OA"
      }
    },
    {
      "cell_type": "markdown",
      "source": [
        "## Exercises"
      ],
      "metadata": {
        "id": "yDh_K3Nw8Tbc"
      }
    },
    {
      "cell_type": "markdown",
      "source": [
        "### Exercise 4.\n",
        "\n",
        "NumPyとMatplotlibを使って、正弦波(sin波)のグラフを書いてみましょう。\n",
        "\n",
        "X軸の範囲を [-5, 5] とします(プロット間隔は指定しません)。\n",
        "\n",
        "![ex4.png](https://github.com/victor-von-pooh/Python_Learn/blob/main/Python%E5%85%A5%E9%96%80%E7%B7%A8/1_2_utils/ex4.png?raw=true)"
      ],
      "metadata": {
        "id": "kfSDC1OO8Wml"
      }
    },
    {
      "cell_type": "code",
      "source": [
        "import numpy as np\n",
        "import matplotlib.pyplot as plt\n",
        "\n",
        "plt.figure(figsize=(18, 12))\n",
        "\n",
        "#コードを書いてください↓↓↓\n",
        "\n",
        "#コードを書いてください↑↑↑\n",
        "\n",
        "plt.show()"
      ],
      "metadata": {
        "id": "KvmJK-o2Z01l"
      },
      "execution_count": null,
      "outputs": []
    },
    {
      "cell_type": "markdown",
      "source": [
        "ヒント1.\n",
        "\n",
        "> NumPyの `.arange()` メソッドは、第1, 2引数に入れた範囲内に第3引数の間隔があいた配列を作る\n",
        "\n",
        "ヒント2.\n",
        "\n",
        "> NumPyの `.sin()` メソッドは、引数の正弦の値を返す"
      ],
      "metadata": {
        "id": "0vBLURLecoIu"
      }
    },
    {
      "cell_type": "markdown",
      "source": [
        "### Exercise 5.\n",
        "\n",
        "$x, y\\space(∈ [-1, 1])$ の平面上に、点を10000個乱数生成し、 $x^2 + y^2 ≤ 1$ を満たす点を赤色で、それ以外を青色でプロットし、次のような図を作成してみましょう。\n",
        "\n",
        "![ex5.png](https://github.com/victor-von-pooh/Python_Learn/blob/main/Python%E5%85%A5%E9%96%80%E7%B7%A8/1_2_utils/ex5.png?raw=true)\n",
        "\n",
        "また、赤色の点をカウントして、 $2500\\space(= 10000 ÷ 4)$ で割ってみましょう。"
      ],
      "metadata": {
        "id": "DmdUc7RVfj7G"
      }
    },
    {
      "cell_type": "code",
      "source": [
        "#コードを書いてください↓↓↓\n",
        "\n",
        "#コードを書いてください↑↑↑"
      ],
      "metadata": {
        "id": "D1LljQrZUwMj"
      },
      "execution_count": null,
      "outputs": []
    },
    {
      "cell_type": "markdown",
      "source": [
        "ヒント1.\n",
        "\n",
        "> 乱数生成はrandomモジュールを使うとやりやすい\n",
        "\n",
        "ヒント2.\n",
        "\n",
        "> 点のプロットはMatplotlibの `.scatter()` メソッドを使うと良い"
      ],
      "metadata": {
        "id": "5M-Ea8i3gJIw"
      }
    },
    {
      "cell_type": "markdown",
      "source": [
        "### Exercise 6.\n",
        "\n",
        "[Excelファイル](https://github.com/victor-von-pooh/Python_Learn/blob/main/Python%E5%85%A5%E9%96%80%E7%B7%A8/1_2_utils/%E5%8A%87%E5%A0%B4%E7%89%88%E5%90%8D%E6%8E%A2%E5%81%B5%E3%82%B3%E3%83%8A%E3%83%B3.xlsx)をダウンロードして読み込んで、次のようなjsonファイルとして保存しましょう。\n",
        "\n",
        "```json\n",
        "{\n",
        "    \"時計じかけの摩天楼\": {\n",
        "        \"公開日\": \"1997/04/19\",\n",
        "        \"主題歌\": \"杏子 - Happy Birthday\",\n",
        "        \"上映時間\": \"95分\",\n",
        "        \"興行収入\": \"11億円\",\n",
        "        \"キャッチコピー\": \"真実はいつもひとつ！\"\n",
        "    },\n",
        "    \"14番目の標的\": {\n",
        "        \"公開日\": \"1998/04/18\",\n",
        "        \"主題歌\": \"ZARD - 少女の頃に戻ったみたいに\",\n",
        "        \"上映時間\": \"99分\",\n",
        "        \"興行収入\": \"18億5000万円\",\n",
        "        \"キャッチコピー\": \"次に狙われるのはだれだ！？\"\n",
        "    },\n",
        "    \"世紀末の魔術師\": {\n",
        "        \"公開日\": \"1999/04/17\",\n",
        "        \"主題歌\": \"B'z - ONE\",\n",
        "        \"上映時間\": \"100分\",\n",
        "        \"興行収入\": \"26億円\",\n",
        "        \"キャッチコピー\": \"世紀末最大の謎を解くのは誰だ！？\"\n",
        "    }\n",
        "}\n",
        "```\n",
        "\n",
        "上記はデータの一部であるため、全てのデータでまとめてください。\n",
        "\n",
        "形式としては、\n",
        "\n",
        "```json\n",
        "{\n",
        "    「タイトル」: {\n",
        "        \"公開日\": \"XXXX/XX/XX\",\n",
        "        \"主題歌\": \"◯◯○◯ - Hoge Hoge\",\n",
        "        \"上映時間\": \"M分\",\n",
        "        \"興行収入\": \"〜円\",\n",
        "        \"キャッチコピー\": \"ホニャララ\"\n",
        "    },\n",
        "    「タイトル」: {\n",
        "        \"公開日\": \"XXXX/XX/XX\",\n",
        "        \"主題歌\": \"◯◯○◯ - Hoge Hoge\",\n",
        "        \"上映時間\": \"M分\",\n",
        "        \"興行収入\": \"〜円\",\n",
        "        \"キャッチコピー\": \"ホニャララ\"\n",
        "    },...\n",
        "}\n",
        "```\n",
        "\n",
        "というように構造化し、インデントを4にしてください。"
      ],
      "metadata": {
        "id": "be4-EzhphNIq"
      }
    },
    {
      "cell_type": "code",
      "source": [
        "#コードを書いてください↓↓↓\n",
        "\n",
        "#コードを書いてください↑↑↑"
      ],
      "metadata": {
        "id": "sZ1M3GCr6PM8"
      },
      "execution_count": null,
      "outputs": []
    },
    {
      "cell_type": "markdown",
      "source": [
        "ヒント1.\n",
        "\n",
        "> Excelデータの読み込みはpandasライブラリが使いやすい\n",
        "\n",
        "ヒント2.\n",
        "\n",
        "> jsonファイルにするには辞書型(dict型)としてデータを扱う"
      ],
      "metadata": {
        "id": "zRZg76BlGJAr"
      }
    }
  ]
}